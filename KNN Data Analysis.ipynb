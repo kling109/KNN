{
 "cells": [
  {
   "cell_type": "markdown",
   "metadata": {},
   "source": [
    "# K-Nearest-Neighbors Data Analysis\n",
    "Name: Trevor Kling\n",
    "\n",
    "ID: 002270716\n",
    "\n",
    "Email: kling109@mail.chapman.edu\n",
    "\n",
    "Course: CPSC 392 - Introduction to Data Science\n",
    "\n",
    "Last Date Modified: 9/14/2019\n",
    "\n",
    "## Introduction\n",
    "\n",
    "This project seeks to clean a .csv data set, removing outliers and other problems with the data to run a K-nearest-neighbor algorithm.\n",
    "\n",
    "## Formatting the Data\n",
    "\n",
    "### Removing Null Values"
   ]
  },
  {
   "cell_type": "code",
   "execution_count": 1,
   "metadata": {},
   "outputs": [],
   "source": [
    "import pandas as pd\n",
    "import numpy as np"
   ]
  },
  {
   "cell_type": "code",
   "execution_count": 2,
   "metadata": {},
   "outputs": [
    {
     "data": {
      "text/html": [
       "<div>\n",
       "<style scoped>\n",
       "    .dataframe tbody tr th:only-of-type {\n",
       "        vertical-align: middle;\n",
       "    }\n",
       "\n",
       "    .dataframe tbody tr th {\n",
       "        vertical-align: top;\n",
       "    }\n",
       "\n",
       "    .dataframe thead th {\n",
       "        text-align: right;\n",
       "    }\n",
       "</style>\n",
       "<table border=\"1\" class=\"dataframe\">\n",
       "  <thead>\n",
       "    <tr style=\"text-align: right;\">\n",
       "      <th></th>\n",
       "      <th>a</th>\n",
       "      <th>b</th>\n",
       "      <th>c</th>\n",
       "      <th>d</th>\n",
       "    </tr>\n",
       "  </thead>\n",
       "  <tbody>\n",
       "    <tr>\n",
       "      <th>count</th>\n",
       "      <td>150.000000</td>\n",
       "      <td>149.000000</td>\n",
       "      <td>149.000000</td>\n",
       "      <td>149.000000</td>\n",
       "    </tr>\n",
       "    <tr>\n",
       "      <th>mean</th>\n",
       "      <td>5.876667</td>\n",
       "      <td>3.073826</td>\n",
       "      <td>3.755705</td>\n",
       "      <td>1.204027</td>\n",
       "    </tr>\n",
       "    <tr>\n",
       "      <th>std</th>\n",
       "      <td>0.946801</td>\n",
       "      <td>0.504761</td>\n",
       "      <td>1.769997</td>\n",
       "      <td>0.762896</td>\n",
       "    </tr>\n",
       "    <tr>\n",
       "      <th>min</th>\n",
       "      <td>4.300000</td>\n",
       "      <td>2.000000</td>\n",
       "      <td>1.000000</td>\n",
       "      <td>0.100000</td>\n",
       "    </tr>\n",
       "    <tr>\n",
       "      <th>25%</th>\n",
       "      <td>5.100000</td>\n",
       "      <td>2.800000</td>\n",
       "      <td>1.600000</td>\n",
       "      <td>0.300000</td>\n",
       "    </tr>\n",
       "    <tr>\n",
       "      <th>50%</th>\n",
       "      <td>5.800000</td>\n",
       "      <td>3.000000</td>\n",
       "      <td>4.400000</td>\n",
       "      <td>1.300000</td>\n",
       "    </tr>\n",
       "    <tr>\n",
       "      <th>75%</th>\n",
       "      <td>6.400000</td>\n",
       "      <td>3.300000</td>\n",
       "      <td>5.100000</td>\n",
       "      <td>1.800000</td>\n",
       "    </tr>\n",
       "    <tr>\n",
       "      <th>max</th>\n",
       "      <td>11.500000</td>\n",
       "      <td>6.200000</td>\n",
       "      <td>6.900000</td>\n",
       "      <td>2.500000</td>\n",
       "    </tr>\n",
       "  </tbody>\n",
       "</table>\n",
       "</div>"
      ],
      "text/plain": [
       "                a           b           c           d\n",
       "count  150.000000  149.000000  149.000000  149.000000\n",
       "mean     5.876667    3.073826    3.755705    1.204027\n",
       "std      0.946801    0.504761    1.769997    0.762896\n",
       "min      4.300000    2.000000    1.000000    0.100000\n",
       "25%      5.100000    2.800000    1.600000    0.300000\n",
       "50%      5.800000    3.000000    4.400000    1.300000\n",
       "75%      6.400000    3.300000    5.100000    1.800000\n",
       "max     11.500000    6.200000    6.900000    2.500000"
      ]
     },
     "execution_count": 2,
     "metadata": {},
     "output_type": "execute_result"
    }
   ],
   "source": [
    "train_data = pd.read_csv(\"sample_train.csv\", header=None)\n",
    "train_data.columns = ['a', 'b', 'c', 'd', 'e']\n",
    "train_data.describe()"
   ]
  },
  {
   "cell_type": "code",
   "execution_count": 3,
   "metadata": {},
   "outputs": [
    {
     "data": {
      "text/html": [
       "<div>\n",
       "<style scoped>\n",
       "    .dataframe tbody tr th:only-of-type {\n",
       "        vertical-align: middle;\n",
       "    }\n",
       "\n",
       "    .dataframe tbody tr th {\n",
       "        vertical-align: top;\n",
       "    }\n",
       "\n",
       "    .dataframe thead th {\n",
       "        text-align: right;\n",
       "    }\n",
       "</style>\n",
       "<table border=\"1\" class=\"dataframe\">\n",
       "  <thead>\n",
       "    <tr style=\"text-align: right;\">\n",
       "      <th></th>\n",
       "      <th>a</th>\n",
       "      <th>b</th>\n",
       "      <th>c</th>\n",
       "      <th>d</th>\n",
       "    </tr>\n",
       "  </thead>\n",
       "  <tbody>\n",
       "    <tr>\n",
       "      <th>count</th>\n",
       "      <td>15.000000</td>\n",
       "      <td>15.000000</td>\n",
       "      <td>15.000000</td>\n",
       "      <td>15.000000</td>\n",
       "    </tr>\n",
       "    <tr>\n",
       "      <th>mean</th>\n",
       "      <td>5.586667</td>\n",
       "      <td>2.920000</td>\n",
       "      <td>3.700000</td>\n",
       "      <td>1.173333</td>\n",
       "    </tr>\n",
       "    <tr>\n",
       "      <th>std</th>\n",
       "      <td>0.697820</td>\n",
       "      <td>0.302844</td>\n",
       "      <td>1.664761</td>\n",
       "      <td>0.728469</td>\n",
       "    </tr>\n",
       "    <tr>\n",
       "      <th>min</th>\n",
       "      <td>4.600000</td>\n",
       "      <td>2.300000</td>\n",
       "      <td>1.300000</td>\n",
       "      <td>0.200000</td>\n",
       "    </tr>\n",
       "    <tr>\n",
       "      <th>25%</th>\n",
       "      <td>5.050000</td>\n",
       "      <td>2.750000</td>\n",
       "      <td>2.250000</td>\n",
       "      <td>0.600000</td>\n",
       "    </tr>\n",
       "    <tr>\n",
       "      <th>50%</th>\n",
       "      <td>5.700000</td>\n",
       "      <td>2.900000</td>\n",
       "      <td>4.200000</td>\n",
       "      <td>1.300000</td>\n",
       "    </tr>\n",
       "    <tr>\n",
       "      <th>75%</th>\n",
       "      <td>6.000000</td>\n",
       "      <td>3.050000</td>\n",
       "      <td>4.700000</td>\n",
       "      <td>1.550000</td>\n",
       "    </tr>\n",
       "    <tr>\n",
       "      <th>max</th>\n",
       "      <td>7.100000</td>\n",
       "      <td>3.500000</td>\n",
       "      <td>6.000000</td>\n",
       "      <td>2.500000</td>\n",
       "    </tr>\n",
       "  </tbody>\n",
       "</table>\n",
       "</div>"
      ],
      "text/plain": [
       "               a          b          c          d\n",
       "count  15.000000  15.000000  15.000000  15.000000\n",
       "mean    5.586667   2.920000   3.700000   1.173333\n",
       "std     0.697820   0.302844   1.664761   0.728469\n",
       "min     4.600000   2.300000   1.300000   0.200000\n",
       "25%     5.050000   2.750000   2.250000   0.600000\n",
       "50%     5.700000   2.900000   4.200000   1.300000\n",
       "75%     6.000000   3.050000   4.700000   1.550000\n",
       "max     7.100000   3.500000   6.000000   2.500000"
      ]
     },
     "execution_count": 3,
     "metadata": {},
     "output_type": "execute_result"
    }
   ],
   "source": [
    "test_data = pd.read_csv(\"sample_test.csv\", header=None)\n",
    "test_data.columns = ['a', 'b', 'c', 'd', 'e']\n",
    "test_data.describe()"
   ]
  },
  {
   "cell_type": "code",
   "execution_count": 4,
   "metadata": {},
   "outputs": [
    {
     "name": "stdout",
     "output_type": "stream",
     "text": [
      "        a    b    c    d          e\n",
      "0     5.1  3.5  1.4  0.2     setosa\n",
      "1     4.9  3.0  1.4  0.2     setosa\n",
      "2     4.7  3.2  1.3  0.2     setosa\n",
      "3     4.6  3.1  1.5  0.2     setosa\n",
      "4     5.0  3.6  1.4  0.2     setosa\n",
      "5     5.4  3.9  1.7  0.4     setosa\n",
      "6     4.6  6.2  1.4  0.3     setosa\n",
      "7     5.0  3.4  1.5  0.2     setosa\n",
      "8     4.4  2.9  1.4  0.2     setosa\n",
      "9     4.9  3.1  1.5  0.1     setosa\n",
      "10    5.4  3.7  1.5  0.2     setosa\n",
      "11    4.8  3.4  1.6  0.2     setosa\n",
      "12    4.8  3.0  1.4  0.1     setosa\n",
      "13    4.3  3.0  1.1  0.1     setosa\n",
      "14    5.8  4.0  1.2  0.2     setosa\n",
      "15    5.7  4.4  1.5  0.4     setosa\n",
      "16    5.4  3.9  1.3  0.4     setosa\n",
      "17    5.1  3.5  1.4  0.3     setosa\n",
      "18    5.7  3.8  1.7  0.3     setosa\n",
      "19    5.1  3.8  1.5  0.3     setosa\n",
      "20    5.4  3.4  1.7  0.2     setosa\n",
      "21    5.1  3.7  1.5  NaN     setosa\n",
      "22    4.6  3.6  1.0  0.2     setosa\n",
      "23    5.1  3.3  1.7  0.5     setosa\n",
      "24    4.8  3.4  1.9  0.2     setosa\n",
      "25    5.0  3.0  1.6  0.2     setosa\n",
      "26    5.0  3.4  1.6  0.4     setosa\n",
      "27    5.2  3.5  1.5  0.2     setosa\n",
      "28    5.2  3.4  1.4  0.2     setosa\n",
      "29    4.7  3.2  1.6  0.2     setosa\n",
      "..    ...  ...  ...  ...        ...\n",
      "120   6.9  3.2  5.7  2.3  virginica\n",
      "121   5.6  2.8  4.9  2.0  virginica\n",
      "122   7.7  2.8  6.7  2.0  virginica\n",
      "123   6.3  2.7  4.9  1.8  virginica\n",
      "124   6.7  3.3  5.7  2.1  virginica\n",
      "125   7.2  3.2  6.0  1.8  virginica\n",
      "126   6.2  2.8  4.8  1.8  virginica\n",
      "127   6.1  3.0  4.9  1.8  virginica\n",
      "128   6.4  2.8  5.6  2.1  virginica\n",
      "129   7.2  3.0  5.8  1.6  virginica\n",
      "130   7.4  2.8  6.1  1.9  virginica\n",
      "131   7.9  3.8  6.4  2.0  virginica\n",
      "132   6.4  2.8  5.6  2.2  virginica\n",
      "133   6.3  2.8  5.1  1.5  virginica\n",
      "134   6.1  2.6  5.6  1.4  virginica\n",
      "135   7.7  3.0  6.1  2.3  virginica\n",
      "136   6.3  3.4  5.6  2.4  virginica\n",
      "137   6.4  3.1  5.5  1.8  virginica\n",
      "138   6.0  3.0  4.8  1.8  virginica\n",
      "139   6.9  3.1  5.4  2.1  virginica\n",
      "140   6.7  3.1  5.6  2.4  virginica\n",
      "141   6.9  3.1  5.1  2.3  virginica\n",
      "142   5.8  2.7  5.1  1.9  virginica\n",
      "143   6.8  3.2  5.9  2.3  virginica\n",
      "144   6.7  3.3  5.7  2.5  virginica\n",
      "145   6.7  3.0  5.2  2.3  virginica\n",
      "146   6.3  2.5  5.0  1.9  virginica\n",
      "147  11.5  3.0  5.2  2.0  virginica\n",
      "148   6.2  3.4  5.4  2.3  virginica\n",
      "149   5.9  3.0  5.1  1.8  virginica\n",
      "\n",
      "[150 rows x 5 columns]\n"
     ]
    }
   ],
   "source": [
    "print(train_data)"
   ]
  },
  {
   "cell_type": "code",
   "execution_count": 5,
   "metadata": {},
   "outputs": [
    {
     "name": "stdout",
     "output_type": "stream",
     "text": [
      "      a    b    c    d           e\n",
      "0   5.1  3.5  1.4  0.2  versicolor\n",
      "1   4.9  3.0  1.4  0.2      setosa\n",
      "2   4.7  3.2  1.3  0.2      setosa\n",
      "3   4.6  3.1  1.5  0.2      setosa\n",
      "4   5.0  2.3  3.3  1.0  versicolor\n",
      "5   5.6  2.7  4.2  1.3  versicolor\n",
      "6   5.7  3.0  4.2  1.2  versicolor\n",
      "7   5.7  2.9  4.2  1.3  versicolor\n",
      "8   6.2  2.9  4.3  1.3  versicolor\n",
      "9   5.1  2.5  3.0  1.1  versicolor\n",
      "10  5.7  2.8  4.1  1.3  versicolor\n",
      "11  6.3  3.3  6.0  2.5   virginica\n",
      "12  5.8  2.7  5.1  1.9   virginica\n",
      "13  7.1  3.0  5.9  2.1   virginica\n",
      "14  6.3  2.9  5.6  1.8      setosa\n"
     ]
    }
   ],
   "source": [
    "print(test_data)"
   ]
  },
  {
   "cell_type": "code",
   "execution_count": 6,
   "metadata": {},
   "outputs": [
    {
     "name": "stdout",
     "output_type": "stream",
     "text": [
      "['setosa' 'versicolor' 'virginica']\n"
     ]
    }
   ],
   "source": [
    "types = train_data.iloc[:,4].unique()\n",
    "print(types)"
   ]
  },
  {
   "cell_type": "markdown",
   "metadata": {},
   "source": [
    "Because the data has 3 distinct targets, these will be subdivided into their own data sets to check for outliers and to find how to fix missing values."
   ]
  },
  {
   "cell_type": "code",
   "execution_count": 7,
   "metadata": {},
   "outputs": [
    {
     "data": {
      "text/html": [
       "<div>\n",
       "<style scoped>\n",
       "    .dataframe tbody tr th:only-of-type {\n",
       "        vertical-align: middle;\n",
       "    }\n",
       "\n",
       "    .dataframe tbody tr th {\n",
       "        vertical-align: top;\n",
       "    }\n",
       "\n",
       "    .dataframe thead th {\n",
       "        text-align: right;\n",
       "    }\n",
       "</style>\n",
       "<table border=\"1\" class=\"dataframe\">\n",
       "  <thead>\n",
       "    <tr style=\"text-align: right;\">\n",
       "      <th></th>\n",
       "      <th>a</th>\n",
       "      <th>b</th>\n",
       "      <th>c</th>\n",
       "      <th>d</th>\n",
       "    </tr>\n",
       "  </thead>\n",
       "  <tbody>\n",
       "    <tr>\n",
       "      <th>count</th>\n",
       "      <td>50.00000</td>\n",
       "      <td>50.000000</td>\n",
       "      <td>50.000000</td>\n",
       "      <td>49.000000</td>\n",
       "    </tr>\n",
       "    <tr>\n",
       "      <th>mean</th>\n",
       "      <td>5.00600</td>\n",
       "      <td>3.474000</td>\n",
       "      <td>1.464000</td>\n",
       "      <td>0.240816</td>\n",
       "    </tr>\n",
       "    <tr>\n",
       "      <th>std</th>\n",
       "      <td>0.35249</td>\n",
       "      <td>0.547652</td>\n",
       "      <td>0.173511</td>\n",
       "      <td>0.105906</td>\n",
       "    </tr>\n",
       "    <tr>\n",
       "      <th>min</th>\n",
       "      <td>4.30000</td>\n",
       "      <td>2.300000</td>\n",
       "      <td>1.000000</td>\n",
       "      <td>0.100000</td>\n",
       "    </tr>\n",
       "    <tr>\n",
       "      <th>25%</th>\n",
       "      <td>4.80000</td>\n",
       "      <td>3.125000</td>\n",
       "      <td>1.400000</td>\n",
       "      <td>0.200000</td>\n",
       "    </tr>\n",
       "    <tr>\n",
       "      <th>50%</th>\n",
       "      <td>5.00000</td>\n",
       "      <td>3.400000</td>\n",
       "      <td>1.500000</td>\n",
       "      <td>0.200000</td>\n",
       "    </tr>\n",
       "    <tr>\n",
       "      <th>75%</th>\n",
       "      <td>5.20000</td>\n",
       "      <td>3.700000</td>\n",
       "      <td>1.575000</td>\n",
       "      <td>0.300000</td>\n",
       "    </tr>\n",
       "    <tr>\n",
       "      <th>max</th>\n",
       "      <td>5.80000</td>\n",
       "      <td>6.200000</td>\n",
       "      <td>1.900000</td>\n",
       "      <td>0.600000</td>\n",
       "    </tr>\n",
       "  </tbody>\n",
       "</table>\n",
       "</div>"
      ],
      "text/plain": [
       "              a          b          c          d\n",
       "count  50.00000  50.000000  50.000000  49.000000\n",
       "mean    5.00600   3.474000   1.464000   0.240816\n",
       "std     0.35249   0.547652   0.173511   0.105906\n",
       "min     4.30000   2.300000   1.000000   0.100000\n",
       "25%     4.80000   3.125000   1.400000   0.200000\n",
       "50%     5.00000   3.400000   1.500000   0.200000\n",
       "75%     5.20000   3.700000   1.575000   0.300000\n",
       "max     5.80000   6.200000   1.900000   0.600000"
      ]
     },
     "execution_count": 7,
     "metadata": {},
     "output_type": "execute_result"
    }
   ],
   "source": [
    "setosa = train_data.loc[train_data.iloc[:,4] == 'setosa']\n",
    "setosa.describe()"
   ]
  },
  {
   "cell_type": "code",
   "execution_count": 8,
   "metadata": {},
   "outputs": [
    {
     "data": {
      "text/html": [
       "<div>\n",
       "<style scoped>\n",
       "    .dataframe tbody tr th:only-of-type {\n",
       "        vertical-align: middle;\n",
       "    }\n",
       "\n",
       "    .dataframe tbody tr th {\n",
       "        vertical-align: top;\n",
       "    }\n",
       "\n",
       "    .dataframe thead th {\n",
       "        text-align: right;\n",
       "    }\n",
       "</style>\n",
       "<table border=\"1\" class=\"dataframe\">\n",
       "  <thead>\n",
       "    <tr style=\"text-align: right;\">\n",
       "      <th></th>\n",
       "      <th>a</th>\n",
       "      <th>b</th>\n",
       "      <th>c</th>\n",
       "      <th>d</th>\n",
       "    </tr>\n",
       "  </thead>\n",
       "  <tbody>\n",
       "    <tr>\n",
       "      <th>count</th>\n",
       "      <td>50.000000</td>\n",
       "      <td>49.000000</td>\n",
       "      <td>49.000000</td>\n",
       "      <td>50.000000</td>\n",
       "    </tr>\n",
       "    <tr>\n",
       "      <th>mean</th>\n",
       "      <td>5.936000</td>\n",
       "      <td>2.767347</td>\n",
       "      <td>4.261224</td>\n",
       "      <td>1.326000</td>\n",
       "    </tr>\n",
       "    <tr>\n",
       "      <th>std</th>\n",
       "      <td>0.516171</td>\n",
       "      <td>0.316483</td>\n",
       "      <td>0.474700</td>\n",
       "      <td>0.197753</td>\n",
       "    </tr>\n",
       "    <tr>\n",
       "      <th>min</th>\n",
       "      <td>4.900000</td>\n",
       "      <td>2.000000</td>\n",
       "      <td>3.000000</td>\n",
       "      <td>1.000000</td>\n",
       "    </tr>\n",
       "    <tr>\n",
       "      <th>25%</th>\n",
       "      <td>5.600000</td>\n",
       "      <td>2.500000</td>\n",
       "      <td>4.000000</td>\n",
       "      <td>1.200000</td>\n",
       "    </tr>\n",
       "    <tr>\n",
       "      <th>50%</th>\n",
       "      <td>5.900000</td>\n",
       "      <td>2.800000</td>\n",
       "      <td>4.400000</td>\n",
       "      <td>1.300000</td>\n",
       "    </tr>\n",
       "    <tr>\n",
       "      <th>75%</th>\n",
       "      <td>6.300000</td>\n",
       "      <td>3.000000</td>\n",
       "      <td>4.600000</td>\n",
       "      <td>1.500000</td>\n",
       "    </tr>\n",
       "    <tr>\n",
       "      <th>max</th>\n",
       "      <td>7.000000</td>\n",
       "      <td>3.400000</td>\n",
       "      <td>5.100000</td>\n",
       "      <td>1.800000</td>\n",
       "    </tr>\n",
       "  </tbody>\n",
       "</table>\n",
       "</div>"
      ],
      "text/plain": [
       "               a          b          c          d\n",
       "count  50.000000  49.000000  49.000000  50.000000\n",
       "mean    5.936000   2.767347   4.261224   1.326000\n",
       "std     0.516171   0.316483   0.474700   0.197753\n",
       "min     4.900000   2.000000   3.000000   1.000000\n",
       "25%     5.600000   2.500000   4.000000   1.200000\n",
       "50%     5.900000   2.800000   4.400000   1.300000\n",
       "75%     6.300000   3.000000   4.600000   1.500000\n",
       "max     7.000000   3.400000   5.100000   1.800000"
      ]
     },
     "execution_count": 8,
     "metadata": {},
     "output_type": "execute_result"
    }
   ],
   "source": [
    "versicolor = train_data.loc[train_data.iloc[:,4] == 'versicolor']\n",
    "versicolor.describe()"
   ]
  },
  {
   "cell_type": "code",
   "execution_count": 9,
   "metadata": {},
   "outputs": [
    {
     "data": {
      "text/html": [
       "<div>\n",
       "<style scoped>\n",
       "    .dataframe tbody tr th:only-of-type {\n",
       "        vertical-align: middle;\n",
       "    }\n",
       "\n",
       "    .dataframe tbody tr th {\n",
       "        vertical-align: top;\n",
       "    }\n",
       "\n",
       "    .dataframe thead th {\n",
       "        text-align: right;\n",
       "    }\n",
       "</style>\n",
       "<table border=\"1\" class=\"dataframe\">\n",
       "  <thead>\n",
       "    <tr style=\"text-align: right;\">\n",
       "      <th></th>\n",
       "      <th>a</th>\n",
       "      <th>b</th>\n",
       "      <th>c</th>\n",
       "      <th>d</th>\n",
       "    </tr>\n",
       "  </thead>\n",
       "  <tbody>\n",
       "    <tr>\n",
       "      <th>count</th>\n",
       "      <td>50.00000</td>\n",
       "      <td>50.000000</td>\n",
       "      <td>50.000000</td>\n",
       "      <td>50.00000</td>\n",
       "    </tr>\n",
       "    <tr>\n",
       "      <th>mean</th>\n",
       "      <td>6.68800</td>\n",
       "      <td>2.974000</td>\n",
       "      <td>5.552000</td>\n",
       "      <td>2.02600</td>\n",
       "    </tr>\n",
       "    <tr>\n",
       "      <th>std</th>\n",
       "      <td>0.94148</td>\n",
       "      <td>0.322497</td>\n",
       "      <td>0.551895</td>\n",
       "      <td>0.27465</td>\n",
       "    </tr>\n",
       "    <tr>\n",
       "      <th>min</th>\n",
       "      <td>4.90000</td>\n",
       "      <td>2.200000</td>\n",
       "      <td>4.500000</td>\n",
       "      <td>1.40000</td>\n",
       "    </tr>\n",
       "    <tr>\n",
       "      <th>25%</th>\n",
       "      <td>6.22500</td>\n",
       "      <td>2.800000</td>\n",
       "      <td>5.100000</td>\n",
       "      <td>1.80000</td>\n",
       "    </tr>\n",
       "    <tr>\n",
       "      <th>50%</th>\n",
       "      <td>6.50000</td>\n",
       "      <td>3.000000</td>\n",
       "      <td>5.550000</td>\n",
       "      <td>2.00000</td>\n",
       "    </tr>\n",
       "    <tr>\n",
       "      <th>75%</th>\n",
       "      <td>7.05000</td>\n",
       "      <td>3.175000</td>\n",
       "      <td>5.875000</td>\n",
       "      <td>2.30000</td>\n",
       "    </tr>\n",
       "    <tr>\n",
       "      <th>max</th>\n",
       "      <td>11.50000</td>\n",
       "      <td>3.800000</td>\n",
       "      <td>6.900000</td>\n",
       "      <td>2.50000</td>\n",
       "    </tr>\n",
       "  </tbody>\n",
       "</table>\n",
       "</div>"
      ],
      "text/plain": [
       "              a          b          c         d\n",
       "count  50.00000  50.000000  50.000000  50.00000\n",
       "mean    6.68800   2.974000   5.552000   2.02600\n",
       "std     0.94148   0.322497   0.551895   0.27465\n",
       "min     4.90000   2.200000   4.500000   1.40000\n",
       "25%     6.22500   2.800000   5.100000   1.80000\n",
       "50%     6.50000   3.000000   5.550000   2.00000\n",
       "75%     7.05000   3.175000   5.875000   2.30000\n",
       "max    11.50000   3.800000   6.900000   2.50000"
      ]
     },
     "execution_count": 9,
     "metadata": {},
     "output_type": "execute_result"
    }
   ],
   "source": [
    "virginica = train_data.loc[train_data.iloc[:,4] == 'virginica']\n",
    "virginica.describe()"
   ]
  },
  {
   "cell_type": "code",
   "execution_count": 10,
   "metadata": {},
   "outputs": [
    {
     "name": "stdout",
     "output_type": "stream",
     "text": [
      "      a    b    c    d           e\n",
      "21  5.1  3.7  1.5  NaN      setosa\n",
      "64  5.6  NaN  3.6  1.3  versicolor\n",
      "96  5.7  2.9  NaN  1.3  versicolor\n"
     ]
    }
   ],
   "source": [
    "nullCol = train_data[train_data.isnull().any(axis=1)]\n",
    "print(nullCol)"
   ]
  },
  {
   "cell_type": "code",
   "execution_count": 11,
   "metadata": {},
   "outputs": [],
   "source": [
    "setosa.at[21, \"d\"] = 0.2\n",
    "versicolor.at[64, \"b\"] = 2.8\n",
    "versicolor.at[96, \"c\"] = 4.3"
   ]
  },
  {
   "cell_type": "markdown",
   "metadata": {},
   "source": [
    "Each of the missing values is set to be the mean value of its given label. Subsequently, the same process is performed with outliers."
   ]
  },
  {
   "cell_type": "markdown",
   "metadata": {},
   "source": [
    "### Finding Outliers"
   ]
  },
  {
   "cell_type": "code",
   "execution_count": 12,
   "metadata": {},
   "outputs": [
    {
     "name": "stdout",
     "output_type": "stream",
     "text": [
      "Empty DataFrame\n",
      "Columns: [a, b, c, d, e]\n",
      "Index: []\n"
     ]
    }
   ],
   "source": [
    "aSetOutliers = setosa[np.abs(setosa[\"a\"] - setosa[\"a\"].mean()) >= (3*setosa[\"a\"].std())]\n",
    "bSetOutliers = setosa[np.abs(setosa[\"b\"] - setosa[\"b\"].mean()) >= (3*setosa[\"b\"].std())]\n",
    "cSetOutliers = setosa[np.abs(setosa[\"c\"] - setosa[\"c\"].mean()) >= (3*setosa[\"c\"].std())]\n",
    "dSetOutliers = setosa[np.abs(setosa[\"d\"] - setosa[\"d\"].mean()) >= (3*setosa[\"d\"].std())]\n",
    "print(aSetOutliers)"
   ]
  },
  {
   "cell_type": "code",
   "execution_count": 13,
   "metadata": {},
   "outputs": [
    {
     "name": "stdout",
     "output_type": "stream",
     "text": [
      "     a    b    c    d       e\n",
      "6  4.6  6.2  1.4  0.3  setosa\n"
     ]
    }
   ],
   "source": [
    "print(bSetOutliers)"
   ]
  },
  {
   "cell_type": "code",
   "execution_count": 14,
   "metadata": {},
   "outputs": [
    {
     "name": "stdout",
     "output_type": "stream",
     "text": [
      "Empty DataFrame\n",
      "Columns: [a, b, c, d, e]\n",
      "Index: []\n"
     ]
    }
   ],
   "source": [
    "print(cSetOutliers)"
   ]
  },
  {
   "cell_type": "code",
   "execution_count": 15,
   "metadata": {
    "scrolled": true
   },
   "outputs": [
    {
     "name": "stdout",
     "output_type": "stream",
     "text": [
      "      a    b    c    d       e\n",
      "43  5.0  3.5  1.6  0.6  setosa\n"
     ]
    }
   ],
   "source": [
    "print(dSetOutliers)"
   ]
  },
  {
   "cell_type": "code",
   "execution_count": 16,
   "metadata": {},
   "outputs": [],
   "source": [
    "setosa.at[6, \"b\"] = 3.5\n",
    "setosa.at[43, \"d\"] = 0.2"
   ]
  },
  {
   "cell_type": "code",
   "execution_count": 17,
   "metadata": {},
   "outputs": [
    {
     "name": "stdout",
     "output_type": "stream",
     "text": [
      "Empty DataFrame\n",
      "Columns: [a, b, c, d, e]\n",
      "Index: []\n"
     ]
    }
   ],
   "source": [
    "aVersOutliers = versicolor[np.abs(versicolor[\"a\"] - versicolor[\"a\"].mean()) >= (3*versicolor[\"a\"].std())]\n",
    "bVersOutliers = versicolor[np.abs(versicolor[\"b\"] - versicolor[\"b\"].mean()) >= (3*versicolor[\"b\"].std())]\n",
    "cVersOutliers = versicolor[np.abs(versicolor[\"c\"] - versicolor[\"c\"].mean()) >= (3*versicolor[\"c\"].std())]\n",
    "dVersOutliers = versicolor[np.abs(versicolor[\"d\"] - versicolor[\"d\"].mean()) >= (3*versicolor[\"d\"].std())]\n",
    "print(aVersOutliers)"
   ]
  },
  {
   "cell_type": "code",
   "execution_count": 18,
   "metadata": {},
   "outputs": [
    {
     "name": "stdout",
     "output_type": "stream",
     "text": [
      "Empty DataFrame\n",
      "Columns: [a, b, c, d, e]\n",
      "Index: []\n"
     ]
    }
   ],
   "source": [
    "print(bVersOutliers)"
   ]
  },
  {
   "cell_type": "code",
   "execution_count": 19,
   "metadata": {},
   "outputs": [
    {
     "name": "stdout",
     "output_type": "stream",
     "text": [
      "Empty DataFrame\n",
      "Columns: [a, b, c, d, e]\n",
      "Index: []\n"
     ]
    }
   ],
   "source": [
    "print(cVersOutliers)"
   ]
  },
  {
   "cell_type": "code",
   "execution_count": 20,
   "metadata": {
    "scrolled": true
   },
   "outputs": [
    {
     "name": "stdout",
     "output_type": "stream",
     "text": [
      "Empty DataFrame\n",
      "Columns: [a, b, c, d, e]\n",
      "Index: []\n"
     ]
    }
   ],
   "source": [
    "print(dVersOutliers)"
   ]
  },
  {
   "cell_type": "markdown",
   "metadata": {},
   "source": [
    "No outliers found in the \"versicolor\" set."
   ]
  },
  {
   "cell_type": "code",
   "execution_count": 21,
   "metadata": {},
   "outputs": [
    {
     "name": "stdout",
     "output_type": "stream",
     "text": [
      "        a    b    c    d          e\n",
      "147  11.5  3.0  5.2  2.0  virginica\n"
     ]
    }
   ],
   "source": [
    "aVirgOutliers = virginica[np.abs(virginica[\"a\"] - virginica[\"a\"].mean()) >= (3*virginica[\"a\"].std())]\n",
    "bVirgOutliers = virginica[np.abs(virginica[\"b\"] - virginica[\"b\"].mean()) >= (3*virginica[\"b\"].std())]\n",
    "cVirgOutliers = virginica[np.abs(virginica[\"c\"] - virginica[\"c\"].mean()) >= (3*virginica[\"c\"].std())]\n",
    "dVirgOutliers = virginica[np.abs(virginica[\"c\"] - virginica[\"c\"].mean()) >= (3*virginica[\"c\"].std())]\n",
    "print(aVirgOutliers)"
   ]
  },
  {
   "cell_type": "code",
   "execution_count": 22,
   "metadata": {},
   "outputs": [
    {
     "name": "stdout",
     "output_type": "stream",
     "text": [
      "Empty DataFrame\n",
      "Columns: [a, b, c, d, e]\n",
      "Index: []\n"
     ]
    }
   ],
   "source": [
    "print(bVirgOutliers)"
   ]
  },
  {
   "cell_type": "code",
   "execution_count": 23,
   "metadata": {},
   "outputs": [
    {
     "name": "stdout",
     "output_type": "stream",
     "text": [
      "Empty DataFrame\n",
      "Columns: [a, b, c, d, e]\n",
      "Index: []\n"
     ]
    }
   ],
   "source": [
    "print(cVirgOutliers)"
   ]
  },
  {
   "cell_type": "code",
   "execution_count": 24,
   "metadata": {
    "scrolled": true
   },
   "outputs": [
    {
     "name": "stdout",
     "output_type": "stream",
     "text": [
      "Empty DataFrame\n",
      "Columns: [a, b, c, d, e]\n",
      "Index: []\n"
     ]
    }
   ],
   "source": [
    "print(dVirgOutliers)"
   ]
  },
  {
   "cell_type": "code",
   "execution_count": 25,
   "metadata": {},
   "outputs": [],
   "source": [
    "virginica.at[147, \"a\"] = 6.7"
   ]
  },
  {
   "cell_type": "markdown",
   "metadata": {},
   "source": [
    "The outliers are found by checking for values which are farther than 3 standard deviations away from the mean, in any of the four numerical columns."
   ]
  },
  {
   "cell_type": "markdown",
   "metadata": {},
   "source": [
    "### Removing Duplicates"
   ]
  },
  {
   "cell_type": "code",
   "execution_count": 26,
   "metadata": {},
   "outputs": [
    {
     "data": {
      "text/html": [
       "<div>\n",
       "<style scoped>\n",
       "    .dataframe tbody tr th:only-of-type {\n",
       "        vertical-align: middle;\n",
       "    }\n",
       "\n",
       "    .dataframe tbody tr th {\n",
       "        vertical-align: top;\n",
       "    }\n",
       "\n",
       "    .dataframe thead th {\n",
       "        text-align: right;\n",
       "    }\n",
       "</style>\n",
       "<table border=\"1\" class=\"dataframe\">\n",
       "  <thead>\n",
       "    <tr style=\"text-align: right;\">\n",
       "      <th></th>\n",
       "      <th>a</th>\n",
       "      <th>b</th>\n",
       "      <th>c</th>\n",
       "      <th>d</th>\n",
       "      <th>e</th>\n",
       "    </tr>\n",
       "  </thead>\n",
       "  <tbody>\n",
       "    <tr>\n",
       "      <th>100</th>\n",
       "      <td>6.3</td>\n",
       "      <td>3.3</td>\n",
       "      <td>6.0</td>\n",
       "      <td>2.5</td>\n",
       "      <td>virginica</td>\n",
       "    </tr>\n",
       "    <tr>\n",
       "      <th>101</th>\n",
       "      <td>5.8</td>\n",
       "      <td>2.7</td>\n",
       "      <td>5.1</td>\n",
       "      <td>1.9</td>\n",
       "      <td>virginica</td>\n",
       "    </tr>\n",
       "    <tr>\n",
       "      <th>102</th>\n",
       "      <td>7.1</td>\n",
       "      <td>3.0</td>\n",
       "      <td>5.9</td>\n",
       "      <td>2.1</td>\n",
       "      <td>virginica</td>\n",
       "    </tr>\n",
       "    <tr>\n",
       "      <th>103</th>\n",
       "      <td>6.3</td>\n",
       "      <td>2.9</td>\n",
       "      <td>5.6</td>\n",
       "      <td>1.8</td>\n",
       "      <td>virginica</td>\n",
       "    </tr>\n",
       "    <tr>\n",
       "      <th>104</th>\n",
       "      <td>6.5</td>\n",
       "      <td>3.0</td>\n",
       "      <td>5.8</td>\n",
       "      <td>2.2</td>\n",
       "      <td>virginica</td>\n",
       "    </tr>\n",
       "    <tr>\n",
       "      <th>105</th>\n",
       "      <td>7.6</td>\n",
       "      <td>3.0</td>\n",
       "      <td>6.6</td>\n",
       "      <td>2.1</td>\n",
       "      <td>virginica</td>\n",
       "    </tr>\n",
       "    <tr>\n",
       "      <th>106</th>\n",
       "      <td>4.9</td>\n",
       "      <td>2.5</td>\n",
       "      <td>4.5</td>\n",
       "      <td>1.7</td>\n",
       "      <td>virginica</td>\n",
       "    </tr>\n",
       "    <tr>\n",
       "      <th>107</th>\n",
       "      <td>7.3</td>\n",
       "      <td>2.9</td>\n",
       "      <td>6.3</td>\n",
       "      <td>1.8</td>\n",
       "      <td>virginica</td>\n",
       "    </tr>\n",
       "    <tr>\n",
       "      <th>108</th>\n",
       "      <td>6.7</td>\n",
       "      <td>2.5</td>\n",
       "      <td>5.8</td>\n",
       "      <td>1.8</td>\n",
       "      <td>virginica</td>\n",
       "    </tr>\n",
       "    <tr>\n",
       "      <th>109</th>\n",
       "      <td>7.2</td>\n",
       "      <td>3.6</td>\n",
       "      <td>6.1</td>\n",
       "      <td>2.5</td>\n",
       "      <td>virginica</td>\n",
       "    </tr>\n",
       "    <tr>\n",
       "      <th>110</th>\n",
       "      <td>6.5</td>\n",
       "      <td>3.2</td>\n",
       "      <td>5.1</td>\n",
       "      <td>2.0</td>\n",
       "      <td>virginica</td>\n",
       "    </tr>\n",
       "    <tr>\n",
       "      <th>111</th>\n",
       "      <td>6.4</td>\n",
       "      <td>2.7</td>\n",
       "      <td>5.3</td>\n",
       "      <td>1.9</td>\n",
       "      <td>virginica</td>\n",
       "    </tr>\n",
       "    <tr>\n",
       "      <th>112</th>\n",
       "      <td>6.8</td>\n",
       "      <td>3.0</td>\n",
       "      <td>5.5</td>\n",
       "      <td>2.1</td>\n",
       "      <td>virginica</td>\n",
       "    </tr>\n",
       "    <tr>\n",
       "      <th>113</th>\n",
       "      <td>5.7</td>\n",
       "      <td>2.5</td>\n",
       "      <td>5.0</td>\n",
       "      <td>2.0</td>\n",
       "      <td>virginica</td>\n",
       "    </tr>\n",
       "    <tr>\n",
       "      <th>114</th>\n",
       "      <td>5.8</td>\n",
       "      <td>2.8</td>\n",
       "      <td>5.1</td>\n",
       "      <td>2.4</td>\n",
       "      <td>virginica</td>\n",
       "    </tr>\n",
       "    <tr>\n",
       "      <th>115</th>\n",
       "      <td>6.4</td>\n",
       "      <td>3.2</td>\n",
       "      <td>5.3</td>\n",
       "      <td>2.3</td>\n",
       "      <td>virginica</td>\n",
       "    </tr>\n",
       "    <tr>\n",
       "      <th>116</th>\n",
       "      <td>6.5</td>\n",
       "      <td>3.0</td>\n",
       "      <td>5.5</td>\n",
       "      <td>1.8</td>\n",
       "      <td>virginica</td>\n",
       "    </tr>\n",
       "    <tr>\n",
       "      <th>117</th>\n",
       "      <td>7.7</td>\n",
       "      <td>3.8</td>\n",
       "      <td>6.7</td>\n",
       "      <td>2.2</td>\n",
       "      <td>virginica</td>\n",
       "    </tr>\n",
       "    <tr>\n",
       "      <th>118</th>\n",
       "      <td>7.7</td>\n",
       "      <td>2.6</td>\n",
       "      <td>6.9</td>\n",
       "      <td>2.3</td>\n",
       "      <td>virginica</td>\n",
       "    </tr>\n",
       "    <tr>\n",
       "      <th>119</th>\n",
       "      <td>6.0</td>\n",
       "      <td>2.2</td>\n",
       "      <td>5.0</td>\n",
       "      <td>1.5</td>\n",
       "      <td>virginica</td>\n",
       "    </tr>\n",
       "    <tr>\n",
       "      <th>120</th>\n",
       "      <td>6.9</td>\n",
       "      <td>3.2</td>\n",
       "      <td>5.7</td>\n",
       "      <td>2.3</td>\n",
       "      <td>virginica</td>\n",
       "    </tr>\n",
       "    <tr>\n",
       "      <th>121</th>\n",
       "      <td>5.6</td>\n",
       "      <td>2.8</td>\n",
       "      <td>4.9</td>\n",
       "      <td>2.0</td>\n",
       "      <td>virginica</td>\n",
       "    </tr>\n",
       "    <tr>\n",
       "      <th>122</th>\n",
       "      <td>7.7</td>\n",
       "      <td>2.8</td>\n",
       "      <td>6.7</td>\n",
       "      <td>2.0</td>\n",
       "      <td>virginica</td>\n",
       "    </tr>\n",
       "    <tr>\n",
       "      <th>123</th>\n",
       "      <td>6.3</td>\n",
       "      <td>2.7</td>\n",
       "      <td>4.9</td>\n",
       "      <td>1.8</td>\n",
       "      <td>virginica</td>\n",
       "    </tr>\n",
       "    <tr>\n",
       "      <th>124</th>\n",
       "      <td>6.7</td>\n",
       "      <td>3.3</td>\n",
       "      <td>5.7</td>\n",
       "      <td>2.1</td>\n",
       "      <td>virginica</td>\n",
       "    </tr>\n",
       "    <tr>\n",
       "      <th>125</th>\n",
       "      <td>7.2</td>\n",
       "      <td>3.2</td>\n",
       "      <td>6.0</td>\n",
       "      <td>1.8</td>\n",
       "      <td>virginica</td>\n",
       "    </tr>\n",
       "    <tr>\n",
       "      <th>126</th>\n",
       "      <td>6.2</td>\n",
       "      <td>2.8</td>\n",
       "      <td>4.8</td>\n",
       "      <td>1.8</td>\n",
       "      <td>virginica</td>\n",
       "    </tr>\n",
       "    <tr>\n",
       "      <th>127</th>\n",
       "      <td>6.1</td>\n",
       "      <td>3.0</td>\n",
       "      <td>4.9</td>\n",
       "      <td>1.8</td>\n",
       "      <td>virginica</td>\n",
       "    </tr>\n",
       "    <tr>\n",
       "      <th>128</th>\n",
       "      <td>6.4</td>\n",
       "      <td>2.8</td>\n",
       "      <td>5.6</td>\n",
       "      <td>2.1</td>\n",
       "      <td>virginica</td>\n",
       "    </tr>\n",
       "    <tr>\n",
       "      <th>129</th>\n",
       "      <td>7.2</td>\n",
       "      <td>3.0</td>\n",
       "      <td>5.8</td>\n",
       "      <td>1.6</td>\n",
       "      <td>virginica</td>\n",
       "    </tr>\n",
       "    <tr>\n",
       "      <th>130</th>\n",
       "      <td>7.4</td>\n",
       "      <td>2.8</td>\n",
       "      <td>6.1</td>\n",
       "      <td>1.9</td>\n",
       "      <td>virginica</td>\n",
       "    </tr>\n",
       "    <tr>\n",
       "      <th>131</th>\n",
       "      <td>7.9</td>\n",
       "      <td>3.8</td>\n",
       "      <td>6.4</td>\n",
       "      <td>2.0</td>\n",
       "      <td>virginica</td>\n",
       "    </tr>\n",
       "    <tr>\n",
       "      <th>132</th>\n",
       "      <td>6.4</td>\n",
       "      <td>2.8</td>\n",
       "      <td>5.6</td>\n",
       "      <td>2.2</td>\n",
       "      <td>virginica</td>\n",
       "    </tr>\n",
       "    <tr>\n",
       "      <th>133</th>\n",
       "      <td>6.3</td>\n",
       "      <td>2.8</td>\n",
       "      <td>5.1</td>\n",
       "      <td>1.5</td>\n",
       "      <td>virginica</td>\n",
       "    </tr>\n",
       "    <tr>\n",
       "      <th>134</th>\n",
       "      <td>6.1</td>\n",
       "      <td>2.6</td>\n",
       "      <td>5.6</td>\n",
       "      <td>1.4</td>\n",
       "      <td>virginica</td>\n",
       "    </tr>\n",
       "    <tr>\n",
       "      <th>135</th>\n",
       "      <td>7.7</td>\n",
       "      <td>3.0</td>\n",
       "      <td>6.1</td>\n",
       "      <td>2.3</td>\n",
       "      <td>virginica</td>\n",
       "    </tr>\n",
       "    <tr>\n",
       "      <th>136</th>\n",
       "      <td>6.3</td>\n",
       "      <td>3.4</td>\n",
       "      <td>5.6</td>\n",
       "      <td>2.4</td>\n",
       "      <td>virginica</td>\n",
       "    </tr>\n",
       "    <tr>\n",
       "      <th>137</th>\n",
       "      <td>6.4</td>\n",
       "      <td>3.1</td>\n",
       "      <td>5.5</td>\n",
       "      <td>1.8</td>\n",
       "      <td>virginica</td>\n",
       "    </tr>\n",
       "    <tr>\n",
       "      <th>138</th>\n",
       "      <td>6.0</td>\n",
       "      <td>3.0</td>\n",
       "      <td>4.8</td>\n",
       "      <td>1.8</td>\n",
       "      <td>virginica</td>\n",
       "    </tr>\n",
       "    <tr>\n",
       "      <th>139</th>\n",
       "      <td>6.9</td>\n",
       "      <td>3.1</td>\n",
       "      <td>5.4</td>\n",
       "      <td>2.1</td>\n",
       "      <td>virginica</td>\n",
       "    </tr>\n",
       "    <tr>\n",
       "      <th>140</th>\n",
       "      <td>6.7</td>\n",
       "      <td>3.1</td>\n",
       "      <td>5.6</td>\n",
       "      <td>2.4</td>\n",
       "      <td>virginica</td>\n",
       "    </tr>\n",
       "    <tr>\n",
       "      <th>141</th>\n",
       "      <td>6.9</td>\n",
       "      <td>3.1</td>\n",
       "      <td>5.1</td>\n",
       "      <td>2.3</td>\n",
       "      <td>virginica</td>\n",
       "    </tr>\n",
       "    <tr>\n",
       "      <th>143</th>\n",
       "      <td>6.8</td>\n",
       "      <td>3.2</td>\n",
       "      <td>5.9</td>\n",
       "      <td>2.3</td>\n",
       "      <td>virginica</td>\n",
       "    </tr>\n",
       "    <tr>\n",
       "      <th>144</th>\n",
       "      <td>6.7</td>\n",
       "      <td>3.3</td>\n",
       "      <td>5.7</td>\n",
       "      <td>2.5</td>\n",
       "      <td>virginica</td>\n",
       "    </tr>\n",
       "    <tr>\n",
       "      <th>145</th>\n",
       "      <td>6.7</td>\n",
       "      <td>3.0</td>\n",
       "      <td>5.2</td>\n",
       "      <td>2.3</td>\n",
       "      <td>virginica</td>\n",
       "    </tr>\n",
       "    <tr>\n",
       "      <th>146</th>\n",
       "      <td>6.3</td>\n",
       "      <td>2.5</td>\n",
       "      <td>5.0</td>\n",
       "      <td>1.9</td>\n",
       "      <td>virginica</td>\n",
       "    </tr>\n",
       "    <tr>\n",
       "      <th>147</th>\n",
       "      <td>6.7</td>\n",
       "      <td>3.0</td>\n",
       "      <td>5.2</td>\n",
       "      <td>2.0</td>\n",
       "      <td>virginica</td>\n",
       "    </tr>\n",
       "    <tr>\n",
       "      <th>148</th>\n",
       "      <td>6.2</td>\n",
       "      <td>3.4</td>\n",
       "      <td>5.4</td>\n",
       "      <td>2.3</td>\n",
       "      <td>virginica</td>\n",
       "    </tr>\n",
       "    <tr>\n",
       "      <th>149</th>\n",
       "      <td>5.9</td>\n",
       "      <td>3.0</td>\n",
       "      <td>5.1</td>\n",
       "      <td>1.8</td>\n",
       "      <td>virginica</td>\n",
       "    </tr>\n",
       "  </tbody>\n",
       "</table>\n",
       "</div>"
      ],
      "text/plain": [
       "       a    b    c    d          e\n",
       "100  6.3  3.3  6.0  2.5  virginica\n",
       "101  5.8  2.7  5.1  1.9  virginica\n",
       "102  7.1  3.0  5.9  2.1  virginica\n",
       "103  6.3  2.9  5.6  1.8  virginica\n",
       "104  6.5  3.0  5.8  2.2  virginica\n",
       "105  7.6  3.0  6.6  2.1  virginica\n",
       "106  4.9  2.5  4.5  1.7  virginica\n",
       "107  7.3  2.9  6.3  1.8  virginica\n",
       "108  6.7  2.5  5.8  1.8  virginica\n",
       "109  7.2  3.6  6.1  2.5  virginica\n",
       "110  6.5  3.2  5.1  2.0  virginica\n",
       "111  6.4  2.7  5.3  1.9  virginica\n",
       "112  6.8  3.0  5.5  2.1  virginica\n",
       "113  5.7  2.5  5.0  2.0  virginica\n",
       "114  5.8  2.8  5.1  2.4  virginica\n",
       "115  6.4  3.2  5.3  2.3  virginica\n",
       "116  6.5  3.0  5.5  1.8  virginica\n",
       "117  7.7  3.8  6.7  2.2  virginica\n",
       "118  7.7  2.6  6.9  2.3  virginica\n",
       "119  6.0  2.2  5.0  1.5  virginica\n",
       "120  6.9  3.2  5.7  2.3  virginica\n",
       "121  5.6  2.8  4.9  2.0  virginica\n",
       "122  7.7  2.8  6.7  2.0  virginica\n",
       "123  6.3  2.7  4.9  1.8  virginica\n",
       "124  6.7  3.3  5.7  2.1  virginica\n",
       "125  7.2  3.2  6.0  1.8  virginica\n",
       "126  6.2  2.8  4.8  1.8  virginica\n",
       "127  6.1  3.0  4.9  1.8  virginica\n",
       "128  6.4  2.8  5.6  2.1  virginica\n",
       "129  7.2  3.0  5.8  1.6  virginica\n",
       "130  7.4  2.8  6.1  1.9  virginica\n",
       "131  7.9  3.8  6.4  2.0  virginica\n",
       "132  6.4  2.8  5.6  2.2  virginica\n",
       "133  6.3  2.8  5.1  1.5  virginica\n",
       "134  6.1  2.6  5.6  1.4  virginica\n",
       "135  7.7  3.0  6.1  2.3  virginica\n",
       "136  6.3  3.4  5.6  2.4  virginica\n",
       "137  6.4  3.1  5.5  1.8  virginica\n",
       "138  6.0  3.0  4.8  1.8  virginica\n",
       "139  6.9  3.1  5.4  2.1  virginica\n",
       "140  6.7  3.1  5.6  2.4  virginica\n",
       "141  6.9  3.1  5.1  2.3  virginica\n",
       "143  6.8  3.2  5.9  2.3  virginica\n",
       "144  6.7  3.3  5.7  2.5  virginica\n",
       "145  6.7  3.0  5.2  2.3  virginica\n",
       "146  6.3  2.5  5.0  1.9  virginica\n",
       "147  6.7  3.0  5.2  2.0  virginica\n",
       "148  6.2  3.4  5.4  2.3  virginica\n",
       "149  5.9  3.0  5.1  1.8  virginica"
      ]
     },
     "execution_count": 26,
     "metadata": {},
     "output_type": "execute_result"
    }
   ],
   "source": [
    "setosa.drop_duplicates()\n",
    "versicolor.drop_duplicates()\n",
    "virginica.drop_duplicates()"
   ]
  },
  {
   "cell_type": "markdown",
   "metadata": {},
   "source": [
    "Finally, duplicate values are removed from the dataset to prevent unnecessary biasing."
   ]
  },
  {
   "cell_type": "markdown",
   "metadata": {},
   "source": [
    "### Recombining Data"
   ]
  },
  {
   "cell_type": "code",
   "execution_count": 27,
   "metadata": {},
   "outputs": [],
   "source": [
    "finalData = pd.concat([setosa, versicolor, virginica])\n",
    "finalData.to_csv(path_or_buf = \"cleaned_data.csv\", index=False, header=None)"
   ]
  },
  {
   "cell_type": "markdown",
   "metadata": {},
   "source": [
    "## Running K-Nearest-Neighbors"
   ]
  },
  {
   "cell_type": "code",
   "execution_count": 28,
   "metadata": {},
   "outputs": [
    {
     "name": "stdout",
     "output_type": "stream",
     "text": [
      "Predicted that test point  0  was  setosa\r\n",
      " but it is actually  versicolor\r\n",
      "\r\n",
      "Predicted that test point  14  was  virginica\r\n",
      " but it is actually  setosa\r\n",
      "\r\n",
      "The accuracy is:  86.66666666666667  percent\r\n"
     ]
    }
   ],
   "source": [
    "!python 'KNN.py'"
   ]
  },
  {
   "cell_type": "markdown",
   "metadata": {},
   "source": [
    "## Analysis"
   ]
  },
  {
   "cell_type": "markdown",
   "metadata": {},
   "source": [
    "When analyzing the data set, three ouliers and three null values were found.  Each of these missing or offset values were replaced by the mean values of their given label.  This maintains the general statistics of the data set, which may produce better results for the K-Nearest-Neightbor algorithm without omitting values.  The data set produced a model with an accuracy of $86\\frac{2}{3}$ percent; of the 15 values tested against, the model failed to properly identify two of them for an accuracy of $\\frac{13}{15}$."
   ]
  },
  {
   "cell_type": "markdown",
   "metadata": {},
   "source": [
    "The most computationally expensive portion of the K-Nearest-Neighbor algorithm certainly is the main loop:"
   ]
  },
  {
   "cell_type": "markdown",
   "metadata": {},
   "source": [
    "```python\n",
    "for i in test_data:\n",
    "\t\tminDist = 0\n",
    "\t\tminDistIndex = 0\n",
    "\t\tfor j in range(len(train_data)):\n",
    "\t\t\tcurrDist = cosDistance(i, train_data[j])\n",
    "\t\t\tif currDist > minDist:\n",
    "\t\t\t\tminDist = currDist\n",
    "\t\t\t\tminDistIndex = j\n",
    "\t\tpredictions.append(train_labels[minDistIndex])\n",
    "```"
   ]
  },
  {
   "cell_type": "markdown",
   "metadata": {},
   "source": [
    "This loop requires the method to take each instance in the test data, and then compare it to every instance in the training data.  In addition, the computation of the cosine distance requires multiple computations over every value in the instance.  In particular, the `for j in range(len(train_data))` loop occupies the vast majority of the computation time."
   ]
  },
  {
   "cell_type": "markdown",
   "metadata": {},
   "source": [
    "If the dataset were to contain categorical variables as well as numerical ones, the method of computing the distance between would need to be modified.  Cosine distance could still be used for the numerical values, but a different method would need to be employed to handle the categorical ones.  One approach is to map each value of a category to a numerical value, and then proceed with cosine distance as normal.  This appraoch is appealing as it does not change the degree of information represented by the categorical values, but allows a uniform algorithm for all values."
   ]
  }
 ],
 "metadata": {
  "kernelspec": {
   "display_name": "Python 3",
   "language": "python",
   "name": "python3"
  },
  "language_info": {
   "codemirror_mode": {
    "name": "ipython",
    "version": 3
   },
   "file_extension": ".py",
   "mimetype": "text/x-python",
   "name": "python",
   "nbconvert_exporter": "python",
   "pygments_lexer": "ipython3",
   "version": "3.7.3"
  }
 },
 "nbformat": 4,
 "nbformat_minor": 2
}
